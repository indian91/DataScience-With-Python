{
 "cells": [
  {
   "cell_type": "markdown",
   "metadata": {},
   "source": [
    "## Points to be analyzed on Data Set\n",
    "\n",
    "#### 1 What are the Top 10 Region of Incidents with higher incidents?\n",
    "#### 2 What is the Percentage of missing Females, Males and Children in top 10 regions of incidents?\n",
    "#### 3 List most common Information Source according to region of incident wise\n",
    "#### 4 What are the most common causes of death in every region?\n",
    "#### 5 List number of cases reported month wise in year 2019 ?\n",
    "#### 6 What are the top migration routes\n",
    "#### 7 List number of cases reported yearwise and compare them"
   ]
  }
 ],
 "metadata": {
  "kernelspec": {
   "display_name": "Python 3",
   "language": "python",
   "name": "python3"
  },
  "language_info": {
   "codemirror_mode": {
    "name": "ipython",
    "version": 3
   },
   "file_extension": ".py",
   "mimetype": "text/x-python",
   "name": "python",
   "nbconvert_exporter": "python",
   "pygments_lexer": "ipython3",
   "version": "3.7.3"
  }
 },
 "nbformat": 4,
 "nbformat_minor": 2
}
