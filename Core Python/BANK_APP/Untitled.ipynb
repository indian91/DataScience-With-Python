{
 "cells": [
  {
   "cell_type": "code",
   "execution_count": 10,
   "metadata": {},
   "outputs": [
    {
     "ename": "IndentationError",
     "evalue": "unexpected indent (transaction.py, line 52)",
     "output_type": "error",
     "traceback": [
      "Traceback \u001b[1;36m(most recent call last)\u001b[0m:\n",
      "  File \u001b[0;32m\"C:\\Anaconda3\\lib\\site-packages\\IPython\\core\\interactiveshell.py\"\u001b[0m, line \u001b[0;32m2963\u001b[0m, in \u001b[0;35mrun_code\u001b[0m\n    exec(code_obj, self.user_global_ns, self.user_ns)\n",
      "\u001b[1;36m  File \u001b[1;32m\"<ipython-input-10-14b8f054ddd7>\"\u001b[1;36m, line \u001b[1;32m8\u001b[1;36m, in \u001b[1;35m<module>\u001b[1;36m\u001b[0m\n\u001b[1;33m    from transaction import credit,debit,update_pwd,check_bal\u001b[0m\n",
      "\u001b[1;36m  File \u001b[1;32m\"C:\\Users\\indian91\\Desktop\\Banking\\transaction.py\"\u001b[1;36m, line \u001b[1;32m52\u001b[0m\n\u001b[1;33m    else:\u001b[0m\n\u001b[1;37m    ^\u001b[0m\n\u001b[1;31mIndentationError\u001b[0m\u001b[1;31m:\u001b[0m unexpected indent\n"
     ]
    }
   ],
   "source": [
    "\"\"\"This is the sub menu \n",
    "which contain the transaction functions.\n",
    "\"\"\"\n",
    "import os\n",
    "import time\n",
    "import shelve\n",
    "import getpass\n",
    "from transaction import credit,debit,update_pwd,check_bal \n",
    "from log import update_log\n",
    "def sub_menu():\n",
    "    s = \"\"\"\n",
    "        1. Credit\n",
    "        2. Debit\n",
    "        3. Update_pwd\n",
    "        4. Check Balance\n",
    "        5. Logout\n",
    "    \"\"\"\n",
    "    print(s)\n",
    "    while True :\n",
    "        try : \n",
    "            print('\\n')\n",
    "            ch = int(input(\"Enter your choice : \".rjust(30)))\n",
    "            if ch < 1 or ch > 5 : \n",
    "                print(\"\\n\\n\\t\\tError!!! Invalid Choice\")\n",
    "                continue\n",
    "            break\n",
    "        except ValueError as e : \n",
    "            print(\"\\n\\n\\t\\tError!!!Bhaai saab integer choice string mtt do\")\n",
    "\n",
    "        if ch == 1:\n",
    "            credit()\n",
    "            sub_menu()\n",
    "        elif ch == 2:\n",
    "            debit()\n",
    "            sub_menu()\n",
    "        elif ch == 3:\n",
    "            update_pwd()\n",
    "            sub_menu()\n",
    "        elif ch == 4:\n",
    "            check_bal()\n",
    "            sub_menu()\n",
    "        elif ch == 5:\n",
    "            main_menu()"
   ]
  },
  {
   "cell_type": "code",
   "execution_count": 8,
   "metadata": {},
   "outputs": [
    {
     "data": {
      "text/plain": [
       "200000"
      ]
     },
     "execution_count": 8,
     "metadata": {},
     "output_type": "execute_result"
    }
   ],
   "source": [
    "import shelve\n",
    "db=shelve.open('database/bank.db',writeback=True)\n",
    "db['1001']['bal']"
   ]
  },
  {
   "cell_type": "code",
   "execution_count": 9,
   "metadata": {},
   "outputs": [],
   "source": [
    "CB=db['1001']['bal']"
   ]
  },
  {
   "cell_type": "code",
   "execution_count": null,
   "metadata": {},
   "outputs": [],
   "source": []
  }
 ],
 "metadata": {
  "kernelspec": {
   "display_name": "Python 3",
   "language": "python",
   "name": "python3"
  },
  "language_info": {
   "codemirror_mode": {
    "name": "ipython",
    "version": 3
   },
   "file_extension": ".py",
   "mimetype": "text/x-python",
   "name": "python",
   "nbconvert_exporter": "python",
   "pygments_lexer": "ipython3",
   "version": "3.6.5"
  }
 },
 "nbformat": 4,
 "nbformat_minor": 2
}
