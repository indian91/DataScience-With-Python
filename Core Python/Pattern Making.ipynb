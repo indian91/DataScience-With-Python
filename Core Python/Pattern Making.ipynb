{
 "cells": [
  {
   "cell_type": "code",
   "execution_count": 1,
   "metadata": {},
   "outputs": [],
   "source": [
    "# Q.1 Write a program to make 'SWASTIK' using control statement"
   ]
  },
  {
   "cell_type": "code",
   "execution_count": 17,
   "metadata": {},
   "outputs": [
    {
     "name": "stdout",
     "output_type": "stream",
     "text": [
      "Enter the number of rows: 15\n",
      "*      ********\n",
      "*      *\n",
      "*      *\n",
      "*      *\n",
      "*      *\n",
      "*      *\n",
      "*      *\n",
      "***************\n",
      "       *      *\n",
      "       *      *\n",
      "       *      *\n",
      "       *      *\n",
      "       *      *\n",
      "       *      *\n",
      "********      *\n"
     ]
    }
   ],
   "source": [
    "n=int(input(\"Enter the number of rows: \"))\n",
    "if n % 2 == 0:\n",
    "    n+=1\n",
    "for row in range(1,n+1):\n",
    "    if row == 1:\n",
    "        print(\"*\",end='')\n",
    "        print(\" \"*(n//2-1),end='')\n",
    "        print(\"*\"*(n//2+1))\n",
    "    elif row <= n//2:\n",
    "        print(\"*\",end='')\n",
    "        print(\" \"*(n//2-1),end='')\n",
    "        print(\"*\")\n",
    "    elif row == (n//2+1):\n",
    "        print(\"*\"*n)\n",
    "    elif row <= n -1 :\n",
    "        print(\" \"*(n//2),end='')\n",
    "        print(\"*\",end='')\n",
    "        print(\" \"*(n//2-1),end='')\n",
    "        print(\"*\")\n",
    "    else :\n",
    "        print(\"*\"*(n//2+1),end='')\n",
    "        print(\" \"*(n//2-1),end='')\n",
    "        print(\"*\")"
   ]
  },
  {
   "cell_type": "code",
   "execution_count": 18,
   "metadata": {},
   "outputs": [
    {
     "data": {
      "text/plain": [
       "0"
      ]
     },
     "execution_count": 18,
     "metadata": {},
     "output_type": "execute_result"
    }
   ],
   "source": [
    "1//2"
   ]
  },
  {
   "cell_type": "code",
   "execution_count": 19,
   "metadata": {},
   "outputs": [
    {
     "name": "stdout",
     "output_type": "stream",
     "text": [
      "Enter a num : 10\n",
      "\t          *\n",
      "\t         ***\n",
      "\t        *****\n",
      "\t       *******\n",
      "\t      *********\n",
      "\t     ***********\n",
      "\t    *************\n",
      "\t   ***************\n",
      "\t  *****************\n",
      "\t *******************\n",
      "\t *******************\n",
      "\t  *****************\n",
      "\t   ***************\n",
      "\t    *************\n",
      "\t     ***********\n",
      "\t      *********\n",
      "\t       *******\n",
      "\t        *****\n",
      "\t         ***\n",
      "\t          *\n"
     ]
    }
   ],
   "source": [
    "n = int(input(\"Enter a num : \"))\n",
    "for row in range(1,n+1):\n",
    "    print(\"\\t\",end='')\n",
    "    c = 2*row-1\n",
    "    print(\" \"*(n-c//2),end='')\n",
    "    print(\"*\"*c,end='')\n",
    "    print()\n",
    "for row in range(1,n+1):\n",
    "    print(\"\\t\",end='')\n",
    "    print(\" \"*(row),end='')\n",
    "    print(\"*\"*(2*n-2*row+1),end='')\n",
    "    print()"
   ]
  },
  {
   "cell_type": "code",
   "execution_count": 20,
   "metadata": {},
   "outputs": [
    {
     "name": "stdout",
     "output_type": "stream",
     "text": [
      "Enter a num : 10\n",
      "\t********** **********\n",
      "\t*********   *********\n",
      "\t********     ********\n",
      "\t*******       *******\n",
      "\t******         ******\n",
      "\t*****           *****\n",
      "\t****             ****\n",
      "\t***               ***\n",
      "\t**                 **\n",
      "\t*                   *\n",
      "\t*                   *\n",
      "\t**                 **\n",
      "\t***               ***\n",
      "\t****             ****\n",
      "\t*****           *****\n",
      "\t******         ******\n",
      "\t*******       *******\n",
      "\t********     ********\n",
      "\t*********   *********\n",
      "\t********** **********\n"
     ]
    }
   ],
   "source": [
    "n = int(input(\"Enter a num : \"))\n",
    "for row in range(1,n+1):\n",
    "    print(\"\\t\",end='')\n",
    "    c = 2*row-1\n",
    "    print(\"*\"*(n-c//2),end='')\n",
    "    print(\" \"*c,end='')\n",
    "    print(\"*\"*(n-c//2),end='')\n",
    "    print()\n",
    "for row in range(1,n+1):\n",
    "    print(\"\\t\",end='')\n",
    "    print(\"*\"*(row),end='')\n",
    "    print(\" \"*(2*n-2*row+1),end='')\n",
    "    print(\"*\"*(row),end='')\n",
    "    print()"
   ]
  },
  {
   "cell_type": "code",
   "execution_count": 21,
   "metadata": {},
   "outputs": [],
   "source": [
    "def print_rangoli(n):\n",
    "    dash = 2*n - 3\n",
    "    rows = 2*n -1\n",
    "    char = 96+n\n",
    "    for row in range(n):\n",
    "        if row < n :    \n",
    "            print('-'*(dash-(row*2)),end='')\n",
    "            char = 96+n\n",
    "            for var in  range(2*row+1):\n",
    "                s = ''\n",
    "                if var % 2 == 0 : \n",
    "                    if row == n -1 and var == 0:\n",
    "                        s = chr(char)\n",
    "                    else :\n",
    "                        s = '-'+chr(char)\n",
    "                    print(s,end='')\n",
    "                    char -= 1\n",
    "            char = 96+n-row+1\n",
    "            for var in  range(2*row-1):\n",
    "                s = ''\n",
    "                if var % 2 == 0 : \n",
    "                    if row == n -1 and var == (2*row-1):\n",
    "                        s = '-'+chr(char)\n",
    "                    else :\n",
    "                        s = '-'+chr(char)\n",
    "                    print(s,end='')\n",
    "                    char += 1\n",
    "            print('-'*(dash-(row*2)),end='')\n",
    "        print()\n",
    "\n",
    "\n",
    "    pat = 2*n - 3\n",
    "    for row in range(n-1):\n",
    "        print(\"-\"*(2*row+1),end='')\n",
    "        nat = pat-(2*row)\n",
    "        char = 96+n\n",
    "        for var in range(nat//2+1):\n",
    "            if row == 0 and var == 0 :\n",
    "                s = chr(char)\n",
    "                print(s,end='')\n",
    "                char = char-1\n",
    "            else :\n",
    "                s = '-'+chr(char)\n",
    "                char = char - 1\n",
    "                print(s,end='')\n",
    "        char = 97+row+2\n",
    "        for var in range(nat//2):\n",
    "            s = '-'+chr(char)\n",
    "            char += 1\n",
    "            print(s,end='')\n",
    "        print(\"-\"*(2*row+1),end='')\n",
    "        print()"
   ]
  },
  {
   "cell_type": "code",
   "execution_count": 22,
   "metadata": {},
   "outputs": [
    {
     "name": "stdout",
     "output_type": "stream",
     "text": [
      "10\n",
      "------------------j-----------------\n",
      "----------------j-i-j---------------\n",
      "--------------j-i-h-i-j-------------\n",
      "------------j-i-h-g-h-i-j-----------\n",
      "----------j-i-h-g-f-g-h-i-j---------\n",
      "--------j-i-h-g-f-e-f-g-h-i-j-------\n",
      "------j-i-h-g-f-e-d-e-f-g-h-i-j-----\n",
      "----j-i-h-g-f-e-d-c-d-e-f-g-h-i-j---\n",
      "--j-i-h-g-f-e-d-c-b-c-d-e-f-g-h-i-j-\n",
      "j-i-h-g-f-e-d-c-b-a-b-c-d-e-f-g-h-i-j\n",
      "-j-i-h-g-f-e-d-c-b-c-d-e-f-g-h-i-j-\n",
      "----j-i-h-g-f-e-d-c-d-e-f-g-h-i-j---\n",
      "------j-i-h-g-f-e-d-e-f-g-h-i-j-----\n",
      "--------j-i-h-g-f-e-f-g-h-i-j-------\n",
      "----------j-i-h-g-f-g-h-i-j---------\n",
      "------------j-i-h-g-h-i-j-----------\n",
      "--------------j-i-h-i-j-------------\n",
      "----------------j-i-j---------------\n",
      "------------------j-----------------\n"
     ]
    }
   ],
   "source": [
    "print_rangoli(int(input()))"
   ]
  },
  {
   "cell_type": "code",
   "execution_count": null,
   "metadata": {},
   "outputs": [],
   "source": []
  }
 ],
 "metadata": {
  "kernelspec": {
   "display_name": "Python 3",
   "language": "python",
   "name": "python3"
  },
  "language_info": {
   "codemirror_mode": {
    "name": "ipython",
    "version": 3
   },
   "file_extension": ".py",
   "mimetype": "text/x-python",
   "name": "python",
   "nbconvert_exporter": "python",
   "pygments_lexer": "ipython3",
   "version": "3.7.3"
  }
 },
 "nbformat": 4,
 "nbformat_minor": 2
}
